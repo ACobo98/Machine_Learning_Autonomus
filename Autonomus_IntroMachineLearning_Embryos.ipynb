{
  "cells": [
    {
      "cell_type": "markdown",
      "metadata": {
        "id": "view-in-github",
        "colab_type": "text"
      },
      "source": [
        "<a href=\"https://colab.research.google.com/github/ACobo98/Machine_Learning_Autonomus/blob/main/Autonomus_IntroMachineLearning_Embryos.ipynb\" target=\"_parent\"><img src=\"https://colab.research.google.com/assets/colab-badge.svg\" alt=\"Open In Colab\"/></a>"
      ]
    },
    {
      "cell_type": "markdown",
      "id": "163b1f6c",
      "metadata": {
        "id": "163b1f6c"
      },
      "source": [
        "\n",
        "# Autonomous Activity: Classical ML Pipeline on Embryo Timelapse\n",
        "\n",
        "**Dataset:** Six time-lapse `.tif` stacks — **2 controls** and **4 mutants**  \n",
        "**Biological types:**\n",
        "- **control**: `Control1`, `Control2`\n",
        "- **mutantA**: `Mutant1`, `Mutant3`\n",
        "- **mutantB**: `Mutant2`, `Mutant4`\n",
        "\n",
        "📁 **Dataset:** [Google Drive Link](https://drive.google.com/drive/folders/1_qxqm-v5yCrme3pAW2rjyOOXIeQDuV54?usp=drive_link)\n",
        "\n",
        "You will build a complete classical ML pipeline using **per-frame image features**.\n",
        "\n",
        "## Learning goals\n",
        "1. **Regression** — predict developmental time (frame index).  \n",
        "2. **Classification** — (a) 6-class embryo ID, (b) 3-class biological type.  \n",
        "3. **Clustering** — explore structures and compare with biological types.  \n",
        "4. **Dimensionality Reduction** — PCA, t‑SNE, UMAP; plot per-embryo **trajectories**.  \n",
        "5. **Cross‑Validation** — use GroupKFold to avoid leakage across embryos.  \n",
        "6. **Bias–Variance** — analyze learning and validation curves.\n",
        "\n",
        "> **No leakage rule:** never mix frames of the **same embryo** across train and test folds.\n"
      ]
    },
    {
      "cell_type": "markdown",
      "id": "b5f3a6dd",
      "metadata": {
        "id": "b5f3a6dd"
      },
      "source": [
        "\n",
        "## 0) Environment setup\n",
        "\n",
        "**Task:** Install the required packages and verify imports.\n"
      ]
    },
    {
      "cell_type": "code",
      "execution_count": 2,
      "id": "0b456e06",
      "metadata": {
        "id": "0b456e06"
      },
      "outputs": [],
      "source": [
        "import numpy as np\n",
        "import pandas as pd\n",
        "import matplotlib.pyplot as plt\n",
        "import gdown\n",
        "import os\n",
        "import glob\n",
        "\n",
        "\n",
        "from sklearn.model_selection import train_test_split, KFold, cross_val_score, GridSearchCV, learning_curve, validation_curve\n",
        "from sklearn.metrics import mean_squared_error, r2_score, accuracy_score, confusion_matrix, ConfusionMatrixDisplay, classification_report\n",
        "from sklearn.linear_model import LinearRegression, Ridge, LogisticRegression\n",
        "from sklearn.svm import SVC\n",
        "from sklearn.preprocessing import StandardScaler, MinMaxScaler\n",
        "from sklearn.pipeline import Pipeline\n",
        "from sklearn.decomposition import PCA\n",
        "from sklearn.cluster import KMeans, DBSCAN\n",
        "from sklearn.datasets import make_regression, make_classification, make_blobs, load_iris\n",
        "from sklearn.model_selection import GroupKFold\n",
        "from sklearn.neighbors import KNeighborsRegressor\n",
        "\n",
        "from skimage.io import imread\n",
        "from skimage.filters import sobel"
      ]
    },
    {
      "cell_type": "markdown",
      "id": "018a79b4",
      "metadata": {
        "id": "018a79b4"
      },
      "source": [
        "\n",
        "## 1) Download the 6 TIFF stacks\n",
        "\n",
        "**Task:** Place your files under a local `data/` folder with the exact names below.  \n",
        "If using Colab, you may download the shared folder with `gdown`:\n",
        "\n",
        "- `data/Control1.tif`\n",
        "- `data/Control2.tif`\n",
        "- `data/Mutant1.tif`   *(mutantA)*\n",
        "- `data/Mutant2.tif`   *(mutantB)*\n",
        "- `data/Mutant3.tif`   *(mutantA)*\n",
        "- `data/Mutant4.tif`   *(mutantB)*\n"
      ]
    },
    {
      "cell_type": "code",
      "execution_count": 3,
      "id": "ddfc9ca0",
      "metadata": {
        "id": "ddfc9ca0",
        "colab": {
          "base_uri": "https://localhost:8080/"
        },
        "outputId": "fa3bd891-234e-40db-a767-2e3dd916c7fc"
      },
      "outputs": [
        {
          "output_type": "stream",
          "name": "stdout",
          "text": [
            "Retrieving folder contents\n",
            "Processing file 1a85fmd7QWAqAXdl2qSBAElgb_kd_eQNc Control1.tif\n",
            "Processing file 1oa4UjMY8gJ1QRMQ0cMyR9GyNbGU9yAAz Control2.tif\n",
            "Processing file 1pqISdlzcrGhxhlRf8nbjzwe-zQe_VgGk Mutant1.tif\n",
            "Processing file 1f7mik8NqKxvIFSdhbqYvcJ3JiSnjsjtE Mutant2.tif\n",
            "Processing file 12HgJria1Pntxw1AFEn7QpUyd8BxzS1kQ Mutant3.tif\n",
            "Processing file 1NJMLyDD4N9dSblwcPo5IUhFCo-ZCGABI Mutant4.tif\n",
            "Retrieving folder contents completed\n",
            "Building directory structure\n",
            "Building directory structure completed\n",
            "Downloading...\n",
            "From: https://drive.google.com/uc?id=1a85fmd7QWAqAXdl2qSBAElgb_kd_eQNc\n",
            "To: /content/data/Control1.tif\n",
            "100% 18.1M/18.1M [00:00<00:00, 32.9MB/s]\n",
            "Downloading...\n",
            "From: https://drive.google.com/uc?id=1oa4UjMY8gJ1QRMQ0cMyR9GyNbGU9yAAz\n",
            "To: /content/data/Control2.tif\n",
            "100% 18.1M/18.1M [00:00<00:00, 24.5MB/s]\n",
            "Downloading...\n",
            "From: https://drive.google.com/uc?id=1pqISdlzcrGhxhlRf8nbjzwe-zQe_VgGk\n",
            "To: /content/data/Mutant1.tif\n",
            "100% 18.1M/18.1M [00:00<00:00, 28.7MB/s]\n",
            "Downloading...\n",
            "From: https://drive.google.com/uc?id=1f7mik8NqKxvIFSdhbqYvcJ3JiSnjsjtE\n",
            "To: /content/data/Mutant2.tif\n",
            "100% 18.1M/18.1M [00:00<00:00, 41.0MB/s]\n",
            "Downloading...\n",
            "From: https://drive.google.com/uc?id=12HgJria1Pntxw1AFEn7QpUyd8BxzS1kQ\n",
            "To: /content/data/Mutant3.tif\n",
            "100% 18.1M/18.1M [00:00<00:00, 49.7MB/s]\n",
            "Downloading...\n",
            "From: https://drive.google.com/uc?id=1NJMLyDD4N9dSblwcPo5IUhFCo-ZCGABI\n",
            "To: /content/data/Mutant4.tif\n",
            "100% 18.1M/18.1M [00:00<00:00, 23.8MB/s]\n",
            "Download completed\n"
          ]
        }
      ],
      "source": [
        "FOLDER_ID = \"1_qxqm-v5yCrme3pAW2rjyOOXIeQDuV54\"\n",
        "\n",
        "os.makedirs(\"data\")\n",
        "\n",
        "!gdown --folder https://drive.google.com/drive/folders/$FOLDER_ID -O data\n"
      ]
    },
    {
      "cell_type": "markdown",
      "id": "1bc75114",
      "metadata": {
        "id": "1bc75114"
      },
      "source": [
        "\n",
        "## 2) Load data and define labels\n",
        "\n",
        "**Task:**\n",
        "1. Confirm each `.tif` is a stack of shape `(T, H, W)`.\n",
        "2. Build a tidy `DataFrame` with **one row per frame** and the columns:\n",
        "   - `embryo_id` ∈ {Control1, Control2, Mutant1, Mutant2, Mutant3, Mutant4}\n",
        "   - `type3` ∈ {`control`, `mutantA`, `mutantB`}\n",
        "   - `frame` ∈ {0..T-1}\n",
        "   - Per-frame features (computed in the next cell)\n",
        "3. Print basic counts by `embryo_id` and `type3`.\n"
      ]
    },
    {
      "cell_type": "code",
      "execution_count": 8,
      "id": "56f8cf92",
      "metadata": {
        "colab": {
          "base_uri": "https://localhost:8080/"
        },
        "id": "56f8cf92",
        "outputId": "ba9cc8c7-bf68-40d7-f7bf-7f38d566543a"
      },
      "outputs": [
        {
          "output_type": "stream",
          "name": "stdout",
          "text": [
            "Names of TIF files:  ['data/Control1.tif', 'data/Control2.tif', 'data/Mutant1.tif', 'data/Mutant2.tif', 'data/Mutant3.tif', 'data/Mutant4.tif'] \n",
            "\n",
            "(450, 200, 200)\n",
            "(450, 200, 200)\n",
            "(450, 200, 200)\n",
            "(450, 200, 200)\n",
            "(450, 200, 200)\n",
            "(450, 200, 200)\n",
            "(2700, 7) \n",
            "\n",
            "  embryo_id    type3  frame  intensity_mean  intensity_std  edge_mean  \\\n",
            "0  Control1  control      0       30.013575      59.946415   0.013368   \n",
            "1  Control1  control      1       29.247125      60.056361   0.011921   \n",
            "2  Control1  control      2       29.896775      60.444294   0.012669   \n",
            "3  Control1  control      3       29.118375      59.554882   0.012019   \n",
            "4  Control1  control      4       29.568400      60.659023   0.012055   \n",
            "\n",
            "   edge_std  \n",
            "0  0.040751  \n",
            "1  0.036303  \n",
            "2  0.037463  \n",
            "3  0.036022  \n",
            "4  0.037060   \n",
            "\n",
            "     embryo_id    type3  frame  intensity_mean  intensity_std  edge_mean  \\\n",
            "2695   Mutant4  mutantB    445       31.677625      53.771740   0.015572   \n",
            "2696   Mutant4  mutantB    446       32.087900      54.037762   0.016528   \n",
            "2697   Mutant4  mutantB    447       32.359350      54.218890   0.016615   \n",
            "2698   Mutant4  mutantB    448       31.341775      53.504855   0.015112   \n",
            "2699   Mutant4  mutantB    449       32.133675      54.033115   0.015871   \n",
            "\n",
            "      edge_std  \n",
            "2695  0.041334  \n",
            "2696  0.044560  \n",
            "2697  0.044914  \n",
            "2698  0.040146  \n",
            "2699  0.042614  \n"
          ]
        }
      ],
      "source": [
        "from skimage.filters import sobel\n",
        "\n",
        "tif_files = sorted(glob.glob(\"data/*.tif\"))\n",
        "print(\"Names of TIF files: \",tif_files,\"\\n\")\n",
        "#Shape files confimation\n",
        "for file_path in tif_files:\n",
        "  #Numpy Array\n",
        "  image_stack = imread(file_path)\n",
        "  print(image_stack.shape)\n",
        "\n",
        "#DataFrame Building:\n",
        "\n",
        "#Function to extract features of each frame image\n",
        "def extract_features(image_frame):\n",
        "    \"\"\"Compute features of 2D Images.\"\"\"\n",
        "    intensity_mean = np.mean(image_frame)\n",
        "    intensity_std = np.std(image_frame)\n",
        "\n",
        "    edge_map = sobel(image_frame)\n",
        "    edge_mean = np.mean(edge_map)\n",
        "    edge_std = np.std(edge_map)\n",
        "\n",
        "    return {\n",
        "        'intensity_mean': intensity_mean,\n",
        "        'intensity_std': intensity_std,\n",
        "        'edge_mean': edge_mean,\n",
        "        'edge_std': edge_std\n",
        "    }\n",
        "\n",
        "#Dictionary to assign each frame to correct type\n",
        "type_map = {\n",
        "    'Control1': 'control',\n",
        "    'Control2': 'control',\n",
        "    'Mutant1':  'mutantA',\n",
        "    'Mutant3':  'mutantA',\n",
        "    'Mutant2':  'mutantB',\n",
        "    'Mutant4':  'mutantB'\n",
        "}\n",
        "\n",
        "all_frames_data=[]\n",
        "\n",
        "for file_path in tif_files:\n",
        "  #Delete .tif from the name of each file and save them in a new list\n",
        "  embryo_id = os.path.basename(file_path).replace('.tif', '')\n",
        "  #Save a new list with the type of each file\n",
        "  type3 = type_map[embryo_id]\n",
        "  #Numpy Array of each file\n",
        "  image_stack = imread(file_path)\n",
        "  #Extract the number of frames of each file\n",
        "  num_frames = image_stack.shape[0]\n",
        "\n",
        "  #Loop to go over each frame from each file\n",
        "  for frame_idx in range(num_frames):\n",
        "\n",
        "    #Create a register for each frame\n",
        "    frame_info = {\n",
        "        'embryo_id': embryo_id,\n",
        "        'type3': type3,\n",
        "        'frame': frame_idx\n",
        "    }\n",
        "    #current frame image\n",
        "    current_frame_image = image_stack[frame_idx, :, :]\n",
        "    features = extract_features(current_frame_image)\n",
        "    full_record = {**frame_info, **features}\n",
        "    #Save it in the list\n",
        "    all_frames_data.append(full_record)\n",
        "\n",
        "df = pd.DataFrame(all_frames_data)\n",
        "print(df.shape, \"\\n\")\n",
        "print(df.head(), \"\\n\")\n",
        "print(df.tail())\n"
      ]
    },
    {
      "cell_type": "markdown",
      "id": "bf15d634",
      "metadata": {
        "id": "bf15d634"
      },
      "source": [
        "\n",
        "## 2.1) Feature matrix and grouping (anti-leakage)\n",
        "\n",
        "**Task:**\n",
        "- Select `feature_cols` (use at least the ones built above).\n",
        "- Build:  \n",
        "  `X` (features), `y_reg = frame`, `y_id6 = embryo_id`, `y_type3 = type3`  \n",
        "- Define `groups = embryo_id` to be used in GroupKFold.\n"
      ]
    },
    {
      "cell_type": "code",
      "execution_count": 9,
      "id": "a3c248f8",
      "metadata": {
        "id": "a3c248f8"
      },
      "outputs": [],
      "source": [
        "feature_cols = [\n",
        "    'intensity_mean',\n",
        "    'intensity_std',\n",
        "    'edge_mean',\n",
        "    'edge_std'\n",
        "]\n",
        "\n",
        "X = df[feature_cols]\n",
        "y_reg = df['frame']\n",
        "y_id6 = df['embryo_id']\n",
        "y_type3 = df['type3']\n",
        "groups = df['embryo_id']"
      ]
    },
    {
      "cell_type": "markdown",
      "id": "2613c3d9",
      "metadata": {
        "id": "2613c3d9"
      },
      "source": [
        "\n",
        "## 3) Supervised Learning — Regression (frame index)\n",
        "\n",
        "**Task :**\n",
        "1. Implement 3 models using `Pipeline`:\n",
        "   - `LinearRegression` (+ `StandardScaler`)\n",
        "   - `Ridge(alpha)` — try `alpha ∈ {0.1, 1, 10}`\n",
        "   - `KNeighborsRegressor` — try `n_neighbors ∈ {3,5,7,11}` with `MinMaxScaler`\n",
        "2. Use **GroupKFold** with `n_splits = min(6, #embryos)` to evaluate **MAE** and **R²**.\n",
        "3. Report mean metrics for each model and **compare**.\n",
        "4. Plot **True vs Predicted** for one representative split.\n"
      ]
    },
    {
      "cell_type": "code",
      "execution_count": 10,
      "id": "76af8837",
      "metadata": {
        "id": "76af8837",
        "colab": {
          "base_uri": "https://localhost:8080/"
        },
        "outputId": "14379eff-7fe4-438e-c6e6-3e2bf08e54c5"
      },
      "outputs": [
        {
          "output_type": "stream",
          "name": "stdout",
          "text": [
            "              Model   R2 Mean    R2 Std    MAE Mean\n",
            "3   Ridge(alpha=10)  0.122660  0.541946   96.791997\n",
            "2    Ridge(alpha=1)  0.091916  0.577015   98.660671\n",
            "1  Ridge(alpha=0.1)  0.088483  0.580875   98.865612\n",
            "0  LinearRegression  0.088097  0.581308   98.888610\n",
            "7         KNN(k=11) -0.093767  0.719463   96.613569\n",
            "6          KNN(k=7) -0.143653  0.788802   99.171164\n",
            "5          KNN(k=5) -0.173829  0.829295  100.563333\n",
            "4          KNN(k=3) -0.225475  0.891688  103.243827\n"
          ]
        }
      ],
      "source": [
        "n_embryos = len(np.unique(groups))\n",
        "gkf = GroupKFold(n_splits=min(6, n_embryos)) #Tool to evaluate the MAE and R^2\n",
        "\n",
        "models_to_test = [\n",
        "    ('LinearRegression', Pipeline([\n",
        "        ('scaler', StandardScaler()),\n",
        "        ('reg', LinearRegression())\n",
        "    ])),\n",
        "    ('Ridge(alpha=0.1)', Pipeline([\n",
        "        ('scaler', StandardScaler()),\n",
        "        ('reg', Ridge(alpha=0.1, random_state=42))\n",
        "    ])),\n",
        "    ('Ridge(alpha=1)', Pipeline([\n",
        "        ('scaler', StandardScaler()),\n",
        "        ('reg', Ridge(alpha=1, random_state=42))\n",
        "    ])),\n",
        "    ('Ridge(alpha=10)', Pipeline([\n",
        "        ('scaler', StandardScaler()),\n",
        "        ('reg', Ridge(alpha=10, random_state=42))\n",
        "    ])),\n",
        "    ('KNN(k=3)', Pipeline([\n",
        "        ('scaler', MinMaxScaler()),\n",
        "        ('reg', KNeighborsRegressor(n_neighbors=3))\n",
        "    ])),\n",
        "    ('KNN(k=5)', Pipeline([\n",
        "        ('scaler', MinMaxScaler()),\n",
        "        ('reg', KNeighborsRegressor(n_neighbors=5))\n",
        "    ])),\n",
        "    ('KNN(k=7)', Pipeline([\n",
        "        ('scaler', MinMaxScaler()),\n",
        "        ('reg', KNeighborsRegressor(n_neighbors=7))\n",
        "    ])),\n",
        "    ('KNN(k=11)', Pipeline([\n",
        "        ('scaler', MinMaxScaler()),\n",
        "        ('reg', KNeighborsRegressor(n_neighbors=11))\n",
        "    ]))\n",
        "]\n",
        "\n",
        "results = []\n",
        "for name, model_pipe in models_to_test:\n",
        "    # R²\n",
        "    scores_r2 = cross_val_score(model_pipe, X, y_reg, cv=gkf, groups=groups, scoring='r2')\n",
        "\n",
        "    # MAE (mean_absolute_error)\n",
        "    scores_mae = cross_val_score(model_pipe, X, y_reg, cv=gkf, groups=groups, scoring='neg_mean_absolute_error')\n",
        "\n",
        "    results.append({\n",
        "        'Model': name,\n",
        "        'R2 Mean': np.mean(scores_r2),\n",
        "        'R2 Std': np.std(scores_r2),\n",
        "        'MAE Mean': -np.mean(scores_mae)\n",
        "    })\n",
        "\n",
        "results_df = pd.DataFrame(results).sort_values(by='R2 Mean', ascending=False)\n",
        "print(results_df)"
      ]
    },
    {
      "cell_type": "markdown",
      "id": "a639af10",
      "metadata": {
        "id": "a639af10"
      },
      "source": [
        "\n",
        "## 4) Supervised Learning — Classification\n",
        "\n",
        "Two tasks (do **both**):\n",
        "- **ID-6:** predict `embryo_id` (6 classes)\n",
        "- **Type-3:** predict `type3` (3 classes: control, mutantA, mutantB)\n",
        "\n",
        "**Task:**\n",
        "1. Implement 3 classifiers with `Pipeline`:\n",
        "   - `LogisticRegression(max_iter=1000)`\n",
        "   - `KNeighborsClassifier`\n",
        "   - `SVC(kernel='rbf')`\n",
        "2. Evaluate with **GroupKFold**. Metrics: **Accuracy** and **F1‑macro**.\n",
        "3. Compare **ID-6** vs **Type-3** (expect Type-3 to be easier).\n",
        "4. Add confusion matrices.\n"
      ]
    },
    {
      "cell_type": "code",
      "execution_count": null,
      "id": "67413572",
      "metadata": {
        "id": "67413572"
      },
      "outputs": [],
      "source": []
    },
    {
      "cell_type": "markdown",
      "id": "1c6070af",
      "metadata": {
        "id": "1c6070af"
      },
      "source": [
        "\n",
        "## 5) Unsupervised Learning — Clustering\n",
        "\n",
        "**Task (no solutions provided):**\n",
        "1. Standardize `X` with `StandardScaler`.\n",
        "2. Apply **KMeans** and **AgglomerativeClustering** with:\n",
        "   - `n_clusters=3` (biological types)\n",
        "   - (Optional) `n_clusters=6` (embryo IDs)\n",
        "3. Compute **silhouette score** (unsupervised metric).\n",
        "4. Build crosstabs: **cluster vs `type3`** and **cluster vs `embryo_id`** (for interpretation only).\n"
      ]
    },
    {
      "cell_type": "code",
      "execution_count": null,
      "id": "62ceb8c2",
      "metadata": {
        "id": "62ceb8c2"
      },
      "outputs": [],
      "source": []
    },
    {
      "cell_type": "markdown",
      "id": "b339a5f4",
      "metadata": {
        "id": "b339a5f4"
      },
      "source": [
        "\n",
        "## 6) Dimensionality Reduction + Trajectories\n",
        "\n",
        "**Task :**\n",
        "1. Compute **PCA(2)**, **t‑SNE(2)**, and **UMAP(2)** on standardized `X`.\n",
        "2. Scatter-plot colored by `type3` (optionally also by `embryo_id`).\n",
        "3. **Trajectories:** for each `embryo_id`, sort by `frame` and **connect** points in 2D.\n",
        "4. Comment on which embedding separates **types** more clearly and which trajectories look smoother or diverge.\n"
      ]
    },
    {
      "cell_type": "code",
      "execution_count": null,
      "id": "614fe05b",
      "metadata": {
        "id": "614fe05b"
      },
      "outputs": [],
      "source": [
        "\n"
      ]
    },
    {
      "cell_type": "markdown",
      "id": "97a72f66",
      "metadata": {
        "id": "97a72f66"
      },
      "source": [
        "\n",
        "## 7) Cross‑Validation without leakage vs naïve split\n",
        "\n",
        "**Task :**\n",
        "1. Use **GroupKFold** (groups = `embryo_id`) with `LogisticRegression` for the **Type-3** task.\n",
        "2. Compare against a naïve frame-wise `train_test_split` (this leaks information).\n",
        "3. Report **Accuracy** and **F1‑macro** for both; discuss overestimation from leakage.\n"
      ]
    },
    {
      "cell_type": "code",
      "execution_count": null,
      "id": "23d6e3b4",
      "metadata": {
        "id": "23d6e3b4"
      },
      "outputs": [],
      "source": [
        "\n"
      ]
    },
    {
      "cell_type": "markdown",
      "id": "66d242a5",
      "metadata": {
        "id": "66d242a5"
      },
      "source": [
        "\n",
        "## 8) Bias–Variance and Overfitting\n",
        "\n",
        "**Task (no solutions provided):**\n",
        "1. Choose `DecisionTreeClassifier` or `KNN` for the **Type-3** task.\n",
        "2. **Learning curve:** use `learning_curve` with GroupKFold. Plot training size vs Accuracy (train vs validation).\n",
        "3. **Validation curve:** plot hyperparameter vs Accuracy (e.g., `max_depth` for a tree, or `n_neighbors` for KNN).\n",
        "4. Conclude: identify **high variance** (train ≫ val) or **high bias** (both low) and propose tuning (regularization, features, data, hyperparameters).\n"
      ]
    },
    {
      "cell_type": "code",
      "execution_count": null,
      "id": "bcb8f517",
      "metadata": {
        "id": "bcb8f517"
      },
      "outputs": [],
      "source": [
        "\n"
      ]
    },
    {
      "cell_type": "markdown",
      "id": "fbfd6cf3",
      "metadata": {
        "id": "fbfd6cf3"
      },
      "source": [
        "\n",
        "## 9) Deliverables\n",
        "\n",
        "1. **Regression (frame):** best model + settings. Report GroupKFold **MAE** and **R²**; include a True vs Predicted plot.  \n",
        "2. **Classification:** compare **ID-6** vs **Type-3**. Which models worked best? Include **Accuracy** and **F1‑macro**.  \n",
        "3. **Clustering:** does `k=3` reveal types? How does `k=6` behave? Report silhouette and discuss crosstabs.  \n",
        "4. **Dimensionality reduction:** which embedding separates **types** best? Show trajectories by `embryo_id` and discuss.  \n",
        "5. **Cross‑Validation:** quantify overestimation from naïve split vs GroupKFold.  \n",
        "6. **Bias–Variance:** interpret curves and propose next steps (regularization, features, data, hyperparameters).  \n",
        "\n"
      ]
    }
  ],
  "metadata": {
    "language_info": {
      "name": "python"
    },
    "colab": {
      "provenance": [],
      "include_colab_link": true
    },
    "kernelspec": {
      "name": "python3",
      "display_name": "Python 3"
    }
  },
  "nbformat": 4,
  "nbformat_minor": 5
}